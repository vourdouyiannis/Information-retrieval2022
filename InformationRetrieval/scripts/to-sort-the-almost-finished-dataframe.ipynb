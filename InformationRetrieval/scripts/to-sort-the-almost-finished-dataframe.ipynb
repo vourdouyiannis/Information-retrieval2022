{
 "cells": [
  {
   "cell_type": "code",
   "execution_count": 1,
   "metadata": {},
   "outputs": [],
   "source": [
    "import pandas as pd\n"
   ]
  },
  {
   "cell_type": "code",
   "execution_count": 2,
   "metadata": {},
   "outputs": [],
   "source": [
    "df = pd.read_csv('C://LUCENE PROJECT//NEWKAGGLEmetadata-2000-random.csv', delimiter=',', encoding='utf-8')"
   ]
  },
  {
   "cell_type": "code",
   "execution_count": 11,
   "metadata": {},
   "outputs": [],
   "source": [
    "df.sort_values(by=['publish_time'], inplace=True, ascending=False)"
   ]
  },
  {
   "cell_type": "code",
   "execution_count": 3,
   "metadata": {},
   "outputs": [
    {
     "name": "stdout",
     "output_type": "stream",
     "text": [
      "                                               title  \\\n",
      "0    Fibrinolysis and COVID‐19: a tale of two sites?   \n",
      "1  The impact of the COVID‐19 pandemic on surgica...   \n",
      "2  Iranian Society of Cardiac Surgeons COVID-19 t...   \n",
      "3  Moving Singing for Lung Health online: experie...   \n",
      "4  The effect of pituitary adenylate cyclase-acti...   \n",
      "\n",
      "                                            abstract publish_time  \\\n",
      "0  We thank Tang et al. for their perspective on ...   2020-07-21   \n",
      "1  INTRODUCTION: The rapid spread of COVID‐19 acr...   2020-10-12   \n",
      "2  Given the nature of heart disease and the impo...   2020-07-22   \n",
      "3  Introduction Singing for Lung Health (SLH) is ...   2020-08-11   \n",
      "4  BACKGROUND Previously reported increases in se...   2020-09-22   \n",
      "\n",
      "                                             authors  \\\n",
      "0  Keragala, Charithani B.; Medcalf, Robert L.; M...   \n",
      "1  Rocco, Nicola; Montagna, Giacomo; di Micco, Ro...   \n",
      "2  Alizadeh Ghavidel, Alireza; Mirzaaghayan, Moha...   \n",
      "3  Philip, K. E. J.; Lewis, A.; Jeffery, E.; Butt...   \n",
      "4  Vollesen, Anne Luise H; Snoer, Agneta; Chaudhr...   \n",
      "\n",
      "                                                 url  \n",
      "0  https://doi.org/10.1111/jth.15017; https://www...  \n",
      "1  https://www.ncbi.nlm.nih.gov/pubmed/33044007/;...  \n",
      "2  https://www.ncbi.nlm.nih.gov/pubmed/33123320/;...  \n",
      "3  http://medrxiv.org/cgi/content/short/2020.08.0...  \n",
      "4  https://doi.org/10.1177/0333102420940689; http...  \n"
     ]
    }
   ],
   "source": [
    "print (df.head())"
   ]
  },
  {
   "cell_type": "code",
   "execution_count": null,
   "metadata": {},
   "outputs": [],
   "source": []
  },
  {
   "cell_type": "code",
   "execution_count": null,
   "metadata": {},
   "outputs": [],
   "source": []
  },
  {
   "cell_type": "code",
   "execution_count": 13,
   "metadata": {},
   "outputs": [],
   "source": [
    "df.to_csv('C://LUCENE PROJECT//NEWKAGGLEmetadata-2000-random-mallonswsto.csv', index=False, encoding='utf-8')"
   ]
  },
  {
   "cell_type": "code",
   "execution_count": null,
   "metadata": {},
   "outputs": [],
   "source": []
  }
 ],
 "metadata": {
  "kernelspec": {
   "display_name": "Python 3",
   "language": "python",
   "name": "python3"
  },
  "language_info": {
   "codemirror_mode": {
    "name": "ipython",
    "version": 3
   },
   "file_extension": ".py",
   "mimetype": "text/x-python",
   "name": "python",
   "nbconvert_exporter": "python",
   "pygments_lexer": "ipython3",
   "version": "3.8.5"
  }
 },
 "nbformat": 4,
 "nbformat_minor": 4
}

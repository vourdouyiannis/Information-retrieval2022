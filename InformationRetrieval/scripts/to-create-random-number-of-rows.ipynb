{
 "cells": [
  {
   "cell_type": "code",
   "execution_count": 3,
   "metadata": {},
   "outputs": [],
   "source": [
    "import pandas as pd\n"
   ]
  },
  {
   "cell_type": "code",
   "execution_count": 37,
   "metadata": {},
   "outputs": [],
   "source": [
    "df = pd.read_csv('C://LUCENE PROJECT//NEWKAGGLEmetadata-stoixismeno-400000.csv', delimiter=',', encoding='utf-8')       #   ,index_col=[0]"
   ]
  },
  {
   "cell_type": "code",
   "execution_count": 38,
   "metadata": {},
   "outputs": [
    {
     "name": "stdout",
     "output_type": "stream",
     "text": [
      "                                               title  \\\n",
      "0  Biocide-tolerance and antibiotic-resistance in...   \n",
      "1  Post COVID-19 pandemic: Biofragmentation and s...   \n",
      "2  An electrochemical biosensor for sensitive ana...   \n",
      "3  Rapid in-situ analysis of phthalates in face m...   \n",
      "4  ASTRO survey details effects of COVID-19 on ra...   \n",
      "\n",
      "                                            abstract publish_time  \\\n",
      "0  During the current pandemic, chemical disinfec...   2021-08-15   \n",
      "1  Because of the COVID-19 pandemic, used face ma...   2021-08-15   \n",
      "2  The pandemic of coronavirus disease 2019 (COVI...   2021-08-15   \n",
      "3  Phthalates (PAEs) are known as endocrine disru...   2021-08-15   \n",
      "4                                                NaN   2021-08-15   \n",
      "\n",
      "                                             authors  \\\n",
      "0            Chen, Bo; Han, Jie; Dai, Han; Jia, Puqi   \n",
      "1                         Kwak, Jin Il; An, Youn-Joo   \n",
      "2  Peng, Ying; Pan, Yanhong; Sun, Zhaowei; Li, Ji...   \n",
      "3  Min, Ke; Weng, Xuqian; Long, Piao; Ma, Ming; C...   \n",
      "4                            Nierengarten, Mary Beth   \n",
      "\n",
      "                                                 url  \n",
      "0  https://www.ncbi.nlm.nih.gov/pubmed/33848900/;...  \n",
      "1  https://api.elsevier.com/content/article/pii/S...  \n",
      "2  https://www.sciencedirect.com/science/article/...  \n",
      "3  https://doi.org/10.1016/j.talanta.2021.122359;...  \n",
      "4  https://doi.org/10.1002/cncr.33786; https://ww...  \n"
     ]
    }
   ],
   "source": [
    "print (df.head())"
   ]
  },
  {
   "cell_type": "code",
   "execution_count": 39,
   "metadata": {},
   "outputs": [],
   "source": [
    "df2 = df.sample(n=5000)"
   ]
  },
  {
   "cell_type": "code",
   "execution_count": 40,
   "metadata": {},
   "outputs": [
    {
     "name": "stdout",
     "output_type": "stream",
     "text": [
      "                                                    title  \\\n",
      "361526  Exacerbation of immune thrombocytopaenia trigg...   \n",
      "371446    Fibrinolysis and COVID‐19: a tale of two sites?   \n",
      "188784  Co-infection of chlamydia pneumoniae and mycop...   \n",
      "179595  HVIDB: a comprehensive database for human-viru...   \n",
      "196863  The Potential Epidemiological Impact of Corona...   \n",
      "\n",
      "                                                 abstract publish_time  \\\n",
      "361526                                                NaN   2020-08-05   \n",
      "371446  We thank Tang et al. for their perspective on ...   2020-07-21   \n",
      "188784                                                NaN         2021   \n",
      "179595  While leading to millions of people's deaths e...         2021   \n",
      "196863  BACKGROUND: Widespread viral and serological t...         2021   \n",
      "\n",
      "                                                  authors  \\\n",
      "361526  Kondo, Yasushi; Kaneko, Yuko; Oshige, Tatsuhir...   \n",
      "371446  Keragala, Charithani B.; Medcalf, Robert L.; M...   \n",
      "188784  De Francesco, Maria Antonia; Poiesi, Claudio; ...   \n",
      "179595  Yang, Xiaodi; Lian, Xianyi; Fu, Chen; Wuchty, ...   \n",
      "196863  Zang, Xiao; Krebs, Emanuel; Chen, Siyuan; Pisk...   \n",
      "\n",
      "                                                      url  \n",
      "361526  https://doi.org/10.1136/annrheumdis-2020-21815...  \n",
      "371446  https://doi.org/10.1111/jth.15017; https://www...  \n",
      "188784                                                NaN  \n",
      "179595                                                NaN  \n",
      "196863                                                NaN  \n"
     ]
    }
   ],
   "source": [
    "print (df2.head())"
   ]
  },
  {
   "cell_type": "code",
   "execution_count": 41,
   "metadata": {},
   "outputs": [
    {
     "data": {
      "text/html": [
       "<div>\n",
       "<style scoped>\n",
       "    .dataframe tbody tr th:only-of-type {\n",
       "        vertical-align: middle;\n",
       "    }\n",
       "\n",
       "    .dataframe tbody tr th {\n",
       "        vertical-align: top;\n",
       "    }\n",
       "\n",
       "    .dataframe thead th {\n",
       "        text-align: right;\n",
       "    }\n",
       "</style>\n",
       "<table border=\"1\" class=\"dataframe\">\n",
       "  <thead>\n",
       "    <tr style=\"text-align: right;\">\n",
       "      <th></th>\n",
       "      <th>title</th>\n",
       "      <th>abstract</th>\n",
       "      <th>publish_time</th>\n",
       "      <th>authors</th>\n",
       "      <th>url</th>\n",
       "    </tr>\n",
       "  </thead>\n",
       "  <tbody>\n",
       "    <tr>\n",
       "      <th>371446</th>\n",
       "      <td>Fibrinolysis and COVID‐19: a tale of two sites?</td>\n",
       "      <td>We thank Tang et al. for their perspective on ...</td>\n",
       "      <td>2020-07-21</td>\n",
       "      <td>Keragala, Charithani B.; Medcalf, Robert L.; M...</td>\n",
       "      <td>https://doi.org/10.1111/jth.15017; https://www...</td>\n",
       "    </tr>\n",
       "    <tr>\n",
       "      <th>320985</th>\n",
       "      <td>The impact of the COVID‐19 pandemic on surgica...</td>\n",
       "      <td>INTRODUCTION: The rapid spread of COVID‐19 acr...</td>\n",
       "      <td>2020-10-12</td>\n",
       "      <td>Rocco, Nicola; Montagna, Giacomo; di Micco, Ro...</td>\n",
       "      <td>https://www.ncbi.nlm.nih.gov/pubmed/33044007/;...</td>\n",
       "    </tr>\n",
       "    <tr>\n",
       "      <th>370601</th>\n",
       "      <td>Iranian Society of Cardiac Surgeons COVID-19 t...</td>\n",
       "      <td>Given the nature of heart disease and the impo...</td>\n",
       "      <td>2020-07-22</td>\n",
       "      <td>Alizadeh Ghavidel, Alireza; Mirzaaghayan, Moha...</td>\n",
       "      <td>https://www.ncbi.nlm.nih.gov/pubmed/33123320/;...</td>\n",
       "    </tr>\n",
       "    <tr>\n",
       "      <th>358095</th>\n",
       "      <td>Moving Singing for Lung Health online: experie...</td>\n",
       "      <td>Introduction Singing for Lung Health (SLH) is ...</td>\n",
       "      <td>2020-08-11</td>\n",
       "      <td>Philip, K. E. J.; Lewis, A.; Jeffery, E.; Butt...</td>\n",
       "      <td>http://medrxiv.org/cgi/content/short/2020.08.0...</td>\n",
       "    </tr>\n",
       "    <tr>\n",
       "      <th>333325</th>\n",
       "      <td>The effect of pituitary adenylate cyclase-acti...</td>\n",
       "      <td>BACKGROUND Previously reported increases in se...</td>\n",
       "      <td>2020-09-22</td>\n",
       "      <td>Vollesen, Anne Luise H; Snoer, Agneta; Chaudhr...</td>\n",
       "      <td>https://doi.org/10.1177/0333102420940689; http...</td>\n",
       "    </tr>\n",
       "    <tr>\n",
       "      <th>...</th>\n",
       "      <td>...</td>\n",
       "      <td>...</td>\n",
       "      <td>...</td>\n",
       "      <td>...</td>\n",
       "      <td>...</td>\n",
       "    </tr>\n",
       "    <tr>\n",
       "      <th>395711</th>\n",
       "      <td>Diagnostic utility of additional whole-chest C...</td>\n",
       "      <td>Abstract Aim To evaluate the diagnostic utilit...</td>\n",
       "      <td>2020-06-09</td>\n",
       "      <td>Hamilton, N. E.; Adam, G. H.; Ifan, D. L.; Lam...</td>\n",
       "      <td>https://api.elsevier.com/content/article/pii/S...</td>\n",
       "    </tr>\n",
       "    <tr>\n",
       "      <th>72613</th>\n",
       "      <td>Coping With COVID-19: Mindfulness-Based Approa...</td>\n",
       "      <td>The novel coronavirus disease COVID-19 that fi...</td>\n",
       "      <td>2021-03-23</td>\n",
       "      <td>Antonova, Elena; Schlosser, Karoly; Pandey, Ra...</td>\n",
       "      <td>https://doi.org/10.3389/fpsyt.2021.563417; htt...</td>\n",
       "    </tr>\n",
       "    <tr>\n",
       "      <th>339786</th>\n",
       "      <td>COVID-19 and dental clinical practice: Student...</td>\n",
       "      <td>PURPOSE/OBJECTIVES Due to the nature of the pr...</td>\n",
       "      <td>2020-09-10</td>\n",
       "      <td>Loch, Carolina; Kuan, Ian B J; Elsalem, Lina; ...</td>\n",
       "      <td>https://doi.org/10.1002/jdd.12402; https://www...</td>\n",
       "    </tr>\n",
       "    <tr>\n",
       "      <th>313639</th>\n",
       "      <td>COVID‐19 and the water sector: understanding i...</td>\n",
       "      <td>The COVID‐19 pandemic led to drastically alter...</td>\n",
       "      <td>2020-10-24</td>\n",
       "      <td>Cotterill, Sarah; Bunney, Sarah; Lawson, Eliza...</td>\n",
       "      <td>https://doi.org/10.1111/wej.12649; https://www...</td>\n",
       "    </tr>\n",
       "    <tr>\n",
       "      <th>18303</th>\n",
       "      <td>Assessment of Knowledge and Practices Toward C...</td>\n",
       "      <td>Background: The incidence rate of coronavirus ...</td>\n",
       "      <td>2021-06-23</td>\n",
       "      <td>Gebremeskel, Teferi G.; Kiros, Kalayu; Gesesew...</td>\n",
       "      <td>https://www.ncbi.nlm.nih.gov/pubmed/34249827/;...</td>\n",
       "    </tr>\n",
       "  </tbody>\n",
       "</table>\n",
       "<p>2340 rows × 5 columns</p>\n",
       "</div>"
      ],
      "text/plain": [
       "                                                    title  \\\n",
       "371446    Fibrinolysis and COVID‐19: a tale of two sites?   \n",
       "320985  The impact of the COVID‐19 pandemic on surgica...   \n",
       "370601  Iranian Society of Cardiac Surgeons COVID-19 t...   \n",
       "358095  Moving Singing for Lung Health online: experie...   \n",
       "333325  The effect of pituitary adenylate cyclase-acti...   \n",
       "...                                                   ...   \n",
       "395711  Diagnostic utility of additional whole-chest C...   \n",
       "72613   Coping With COVID-19: Mindfulness-Based Approa...   \n",
       "339786  COVID-19 and dental clinical practice: Student...   \n",
       "313639  COVID‐19 and the water sector: understanding i...   \n",
       "18303   Assessment of Knowledge and Practices Toward C...   \n",
       "\n",
       "                                                 abstract publish_time  \\\n",
       "371446  We thank Tang et al. for their perspective on ...   2020-07-21   \n",
       "320985  INTRODUCTION: The rapid spread of COVID‐19 acr...   2020-10-12   \n",
       "370601  Given the nature of heart disease and the impo...   2020-07-22   \n",
       "358095  Introduction Singing for Lung Health (SLH) is ...   2020-08-11   \n",
       "333325  BACKGROUND Previously reported increases in se...   2020-09-22   \n",
       "...                                                   ...          ...   \n",
       "395711  Abstract Aim To evaluate the diagnostic utilit...   2020-06-09   \n",
       "72613   The novel coronavirus disease COVID-19 that fi...   2021-03-23   \n",
       "339786  PURPOSE/OBJECTIVES Due to the nature of the pr...   2020-09-10   \n",
       "313639  The COVID‐19 pandemic led to drastically alter...   2020-10-24   \n",
       "18303   Background: The incidence rate of coronavirus ...   2021-06-23   \n",
       "\n",
       "                                                  authors  \\\n",
       "371446  Keragala, Charithani B.; Medcalf, Robert L.; M...   \n",
       "320985  Rocco, Nicola; Montagna, Giacomo; di Micco, Ro...   \n",
       "370601  Alizadeh Ghavidel, Alireza; Mirzaaghayan, Moha...   \n",
       "358095  Philip, K. E. J.; Lewis, A.; Jeffery, E.; Butt...   \n",
       "333325  Vollesen, Anne Luise H; Snoer, Agneta; Chaudhr...   \n",
       "...                                                   ...   \n",
       "395711  Hamilton, N. E.; Adam, G. H.; Ifan, D. L.; Lam...   \n",
       "72613   Antonova, Elena; Schlosser, Karoly; Pandey, Ra...   \n",
       "339786  Loch, Carolina; Kuan, Ian B J; Elsalem, Lina; ...   \n",
       "313639  Cotterill, Sarah; Bunney, Sarah; Lawson, Eliza...   \n",
       "18303   Gebremeskel, Teferi G.; Kiros, Kalayu; Gesesew...   \n",
       "\n",
       "                                                      url  \n",
       "371446  https://doi.org/10.1111/jth.15017; https://www...  \n",
       "320985  https://www.ncbi.nlm.nih.gov/pubmed/33044007/;...  \n",
       "370601  https://www.ncbi.nlm.nih.gov/pubmed/33123320/;...  \n",
       "358095  http://medrxiv.org/cgi/content/short/2020.08.0...  \n",
       "333325  https://doi.org/10.1177/0333102420940689; http...  \n",
       "...                                                   ...  \n",
       "395711  https://api.elsevier.com/content/article/pii/S...  \n",
       "72613   https://doi.org/10.3389/fpsyt.2021.563417; htt...  \n",
       "339786  https://doi.org/10.1002/jdd.12402; https://www...  \n",
       "313639  https://doi.org/10.1111/wej.12649; https://www...  \n",
       "18303   https://www.ncbi.nlm.nih.gov/pubmed/34249827/;...  \n",
       "\n",
       "[2340 rows x 5 columns]"
      ]
     },
     "execution_count": 41,
     "metadata": {},
     "output_type": "execute_result"
    }
   ],
   "source": [
    "df2.dropna( axis=0, how='any', subset=['abstract', 'url'])\n",
    "#drops the empty the rows with empry cells in the columns abstract and url"
   ]
  },
  {
   "cell_type": "code",
   "execution_count": 42,
   "metadata": {},
   "outputs": [],
   "source": [
    "df2.dropna( how='any', inplace=True)\n",
    "#drops row that have at list one cell empty"
   ]
  },
  {
   "cell_type": "code",
   "execution_count": 43,
   "metadata": {},
   "outputs": [
    {
     "name": "stdout",
     "output_type": "stream",
     "text": [
      "                                                    title  \\\n",
      "371446    Fibrinolysis and COVID‐19: a tale of two sites?   \n",
      "320985  The impact of the COVID‐19 pandemic on surgica...   \n",
      "370601  Iranian Society of Cardiac Surgeons COVID-19 t...   \n",
      "358095  Moving Singing for Lung Health online: experie...   \n",
      "333325  The effect of pituitary adenylate cyclase-acti...   \n",
      "\n",
      "                                                 abstract publish_time  \\\n",
      "371446  We thank Tang et al. for their perspective on ...   2020-07-21   \n",
      "320985  INTRODUCTION: The rapid spread of COVID‐19 acr...   2020-10-12   \n",
      "370601  Given the nature of heart disease and the impo...   2020-07-22   \n",
      "358095  Introduction Singing for Lung Health (SLH) is ...   2020-08-11   \n",
      "333325  BACKGROUND Previously reported increases in se...   2020-09-22   \n",
      "\n",
      "                                                  authors  \\\n",
      "371446  Keragala, Charithani B.; Medcalf, Robert L.; M...   \n",
      "320985  Rocco, Nicola; Montagna, Giacomo; di Micco, Ro...   \n",
      "370601  Alizadeh Ghavidel, Alireza; Mirzaaghayan, Moha...   \n",
      "358095  Philip, K. E. J.; Lewis, A.; Jeffery, E.; Butt...   \n",
      "333325  Vollesen, Anne Luise H; Snoer, Agneta; Chaudhr...   \n",
      "\n",
      "                                                      url  \n",
      "371446  https://doi.org/10.1111/jth.15017; https://www...  \n",
      "320985  https://www.ncbi.nlm.nih.gov/pubmed/33044007/;...  \n",
      "370601  https://www.ncbi.nlm.nih.gov/pubmed/33123320/;...  \n",
      "358095  http://medrxiv.org/cgi/content/short/2020.08.0...  \n",
      "333325  https://doi.org/10.1177/0333102420940689; http...  \n"
     ]
    }
   ],
   "source": [
    "print (df2.head())"
   ]
  },
  {
   "cell_type": "code",
   "execution_count": 12,
   "metadata": {},
   "outputs": [
    {
     "ename": "TypeError",
     "evalue": "'>=' not supported between instances of 'int' and 'str'",
     "output_type": "error",
     "traceback": [
      "\u001b[1;31m---------------------------------------------------------------------------\u001b[0m",
      "\u001b[1;31mTypeError\u001b[0m                                 Traceback (most recent call last)",
      "\u001b[1;32m<ipython-input-12-f13ec337f5d3>\u001b[0m in \u001b[0;36m<module>\u001b[1;34m\u001b[0m\n\u001b[1;32m----> 1\u001b[1;33m \u001b[0mdf2\u001b[0m\u001b[1;33m.\u001b[0m\u001b[0mloc\u001b[0m\u001b[1;33m[\u001b[0m\u001b[0mdf2\u001b[0m\u001b[1;33m[\u001b[0m\u001b[1;34m'publish_time'\u001b[0m\u001b[1;33m]\u001b[0m \u001b[1;33m>=\u001b[0m \u001b[1;34m'2020-01-01'\u001b[0m\u001b[1;33m]\u001b[0m\u001b[1;33m\u001b[0m\u001b[1;33m\u001b[0m\u001b[0m\n\u001b[0m",
      "\u001b[1;32m~\\anaconda3\\lib\\site-packages\\pandas\\core\\ops\\common.py\u001b[0m in \u001b[0;36mnew_method\u001b[1;34m(self, other)\u001b[0m\n\u001b[0;32m     63\u001b[0m         \u001b[0mother\u001b[0m \u001b[1;33m=\u001b[0m \u001b[0mitem_from_zerodim\u001b[0m\u001b[1;33m(\u001b[0m\u001b[0mother\u001b[0m\u001b[1;33m)\u001b[0m\u001b[1;33m\u001b[0m\u001b[1;33m\u001b[0m\u001b[0m\n\u001b[0;32m     64\u001b[0m \u001b[1;33m\u001b[0m\u001b[0m\n\u001b[1;32m---> 65\u001b[1;33m         \u001b[1;32mreturn\u001b[0m \u001b[0mmethod\u001b[0m\u001b[1;33m(\u001b[0m\u001b[0mself\u001b[0m\u001b[1;33m,\u001b[0m \u001b[0mother\u001b[0m\u001b[1;33m)\u001b[0m\u001b[1;33m\u001b[0m\u001b[1;33m\u001b[0m\u001b[0m\n\u001b[0m\u001b[0;32m     66\u001b[0m \u001b[1;33m\u001b[0m\u001b[0m\n\u001b[0;32m     67\u001b[0m     \u001b[1;32mreturn\u001b[0m \u001b[0mnew_method\u001b[0m\u001b[1;33m\u001b[0m\u001b[1;33m\u001b[0m\u001b[0m\n",
      "\u001b[1;32m~\\anaconda3\\lib\\site-packages\\pandas\\core\\ops\\__init__.py\u001b[0m in \u001b[0;36mwrapper\u001b[1;34m(self, other)\u001b[0m\n\u001b[0;32m    368\u001b[0m         \u001b[0mrvalues\u001b[0m \u001b[1;33m=\u001b[0m \u001b[0mextract_array\u001b[0m\u001b[1;33m(\u001b[0m\u001b[0mother\u001b[0m\u001b[1;33m,\u001b[0m \u001b[0mextract_numpy\u001b[0m\u001b[1;33m=\u001b[0m\u001b[1;32mTrue\u001b[0m\u001b[1;33m)\u001b[0m\u001b[1;33m\u001b[0m\u001b[1;33m\u001b[0m\u001b[0m\n\u001b[0;32m    369\u001b[0m \u001b[1;33m\u001b[0m\u001b[0m\n\u001b[1;32m--> 370\u001b[1;33m         \u001b[0mres_values\u001b[0m \u001b[1;33m=\u001b[0m \u001b[0mcomparison_op\u001b[0m\u001b[1;33m(\u001b[0m\u001b[0mlvalues\u001b[0m\u001b[1;33m,\u001b[0m \u001b[0mrvalues\u001b[0m\u001b[1;33m,\u001b[0m \u001b[0mop\u001b[0m\u001b[1;33m)\u001b[0m\u001b[1;33m\u001b[0m\u001b[1;33m\u001b[0m\u001b[0m\n\u001b[0m\u001b[0;32m    371\u001b[0m \u001b[1;33m\u001b[0m\u001b[0m\n\u001b[0;32m    372\u001b[0m         \u001b[1;32mreturn\u001b[0m \u001b[0mself\u001b[0m\u001b[1;33m.\u001b[0m\u001b[0m_construct_result\u001b[0m\u001b[1;33m(\u001b[0m\u001b[0mres_values\u001b[0m\u001b[1;33m,\u001b[0m \u001b[0mname\u001b[0m\u001b[1;33m=\u001b[0m\u001b[0mres_name\u001b[0m\u001b[1;33m)\u001b[0m\u001b[1;33m\u001b[0m\u001b[1;33m\u001b[0m\u001b[0m\n",
      "\u001b[1;32m~\\anaconda3\\lib\\site-packages\\pandas\\core\\ops\\array_ops.py\u001b[0m in \u001b[0;36mcomparison_op\u001b[1;34m(left, right, op)\u001b[0m\n\u001b[0;32m    242\u001b[0m \u001b[1;33m\u001b[0m\u001b[0m\n\u001b[0;32m    243\u001b[0m     \u001b[1;32melif\u001b[0m \u001b[0mis_object_dtype\u001b[0m\u001b[1;33m(\u001b[0m\u001b[0mlvalues\u001b[0m\u001b[1;33m.\u001b[0m\u001b[0mdtype\u001b[0m\u001b[1;33m)\u001b[0m\u001b[1;33m:\u001b[0m\u001b[1;33m\u001b[0m\u001b[1;33m\u001b[0m\u001b[0m\n\u001b[1;32m--> 244\u001b[1;33m         \u001b[0mres_values\u001b[0m \u001b[1;33m=\u001b[0m \u001b[0mcomp_method_OBJECT_ARRAY\u001b[0m\u001b[1;33m(\u001b[0m\u001b[0mop\u001b[0m\u001b[1;33m,\u001b[0m \u001b[0mlvalues\u001b[0m\u001b[1;33m,\u001b[0m \u001b[0mrvalues\u001b[0m\u001b[1;33m)\u001b[0m\u001b[1;33m\u001b[0m\u001b[1;33m\u001b[0m\u001b[0m\n\u001b[0m\u001b[0;32m    245\u001b[0m \u001b[1;33m\u001b[0m\u001b[0m\n\u001b[0;32m    246\u001b[0m     \u001b[1;32melse\u001b[0m\u001b[1;33m:\u001b[0m\u001b[1;33m\u001b[0m\u001b[1;33m\u001b[0m\u001b[0m\n",
      "\u001b[1;32m~\\anaconda3\\lib\\site-packages\\pandas\\core\\ops\\array_ops.py\u001b[0m in \u001b[0;36mcomp_method_OBJECT_ARRAY\u001b[1;34m(op, x, y)\u001b[0m\n\u001b[0;32m     54\u001b[0m         \u001b[0mresult\u001b[0m \u001b[1;33m=\u001b[0m \u001b[0mlibops\u001b[0m\u001b[1;33m.\u001b[0m\u001b[0mvec_compare\u001b[0m\u001b[1;33m(\u001b[0m\u001b[0mx\u001b[0m\u001b[1;33m.\u001b[0m\u001b[0mravel\u001b[0m\u001b[1;33m(\u001b[0m\u001b[1;33m)\u001b[0m\u001b[1;33m,\u001b[0m \u001b[0my\u001b[0m\u001b[1;33m.\u001b[0m\u001b[0mravel\u001b[0m\u001b[1;33m(\u001b[0m\u001b[1;33m)\u001b[0m\u001b[1;33m,\u001b[0m \u001b[0mop\u001b[0m\u001b[1;33m)\u001b[0m\u001b[1;33m\u001b[0m\u001b[1;33m\u001b[0m\u001b[0m\n\u001b[0;32m     55\u001b[0m     \u001b[1;32melse\u001b[0m\u001b[1;33m:\u001b[0m\u001b[1;33m\u001b[0m\u001b[1;33m\u001b[0m\u001b[0m\n\u001b[1;32m---> 56\u001b[1;33m         \u001b[0mresult\u001b[0m \u001b[1;33m=\u001b[0m \u001b[0mlibops\u001b[0m\u001b[1;33m.\u001b[0m\u001b[0mscalar_compare\u001b[0m\u001b[1;33m(\u001b[0m\u001b[0mx\u001b[0m\u001b[1;33m.\u001b[0m\u001b[0mravel\u001b[0m\u001b[1;33m(\u001b[0m\u001b[1;33m)\u001b[0m\u001b[1;33m,\u001b[0m \u001b[0my\u001b[0m\u001b[1;33m,\u001b[0m \u001b[0mop\u001b[0m\u001b[1;33m)\u001b[0m\u001b[1;33m\u001b[0m\u001b[1;33m\u001b[0m\u001b[0m\n\u001b[0m\u001b[0;32m     57\u001b[0m     \u001b[1;32mreturn\u001b[0m \u001b[0mresult\u001b[0m\u001b[1;33m.\u001b[0m\u001b[0mreshape\u001b[0m\u001b[1;33m(\u001b[0m\u001b[0mx\u001b[0m\u001b[1;33m.\u001b[0m\u001b[0mshape\u001b[0m\u001b[1;33m)\u001b[0m\u001b[1;33m\u001b[0m\u001b[1;33m\u001b[0m\u001b[0m\n\u001b[0;32m     58\u001b[0m \u001b[1;33m\u001b[0m\u001b[0m\n",
      "\u001b[1;32mpandas\\_libs\\ops.pyx\u001b[0m in \u001b[0;36mpandas._libs.ops.scalar_compare\u001b[1;34m()\u001b[0m\n",
      "\u001b[1;31mTypeError\u001b[0m: '>=' not supported between instances of 'int' and 'str'"
     ]
    }
   ],
   "source": [
    "df2.loc[df2['publish_time'] >= '2020-01-01']"
   ]
  },
  {
   "cell_type": "code",
   "execution_count": 44,
   "metadata": {},
   "outputs": [
    {
     "ename": "TypeError",
     "evalue": "'<' not supported between instances of 'int' and 'str'",
     "output_type": "error",
     "traceback": [
      "\u001b[1;31m---------------------------------------------------------------------------\u001b[0m",
      "\u001b[1;31mTypeError\u001b[0m                                 Traceback (most recent call last)",
      "\u001b[1;32m<ipython-input-44-415f7b11b738>\u001b[0m in \u001b[0;36m<module>\u001b[1;34m\u001b[0m\n\u001b[1;32m----> 1\u001b[1;33m \u001b[0mdf2\u001b[0m\u001b[1;33m.\u001b[0m\u001b[0msort_values\u001b[0m\u001b[1;33m(\u001b[0m\u001b[0mby\u001b[0m\u001b[1;33m=\u001b[0m\u001b[1;33m[\u001b[0m\u001b[1;34m'publish_time'\u001b[0m\u001b[1;33m]\u001b[0m\u001b[1;33m,\u001b[0m \u001b[0minplace\u001b[0m\u001b[1;33m=\u001b[0m\u001b[1;32mTrue\u001b[0m\u001b[1;33m,\u001b[0m \u001b[0mascending\u001b[0m\u001b[1;33m=\u001b[0m\u001b[1;32mFalse\u001b[0m\u001b[1;33m)\u001b[0m\u001b[1;33m\u001b[0m\u001b[1;33m\u001b[0m\u001b[0m\n\u001b[0m",
      "\u001b[1;32m~\\anaconda3\\lib\\site-packages\\pandas\\core\\frame.py\u001b[0m in \u001b[0;36msort_values\u001b[1;34m(self, by, axis, ascending, inplace, kind, na_position, ignore_index, key)\u001b[0m\n\u001b[0;32m   5301\u001b[0m                 \u001b[0mascending\u001b[0m \u001b[1;33m=\u001b[0m \u001b[0mascending\u001b[0m\u001b[1;33m[\u001b[0m\u001b[1;36m0\u001b[0m\u001b[1;33m]\u001b[0m\u001b[1;33m\u001b[0m\u001b[1;33m\u001b[0m\u001b[0m\n\u001b[0;32m   5302\u001b[0m \u001b[1;33m\u001b[0m\u001b[0m\n\u001b[1;32m-> 5303\u001b[1;33m             indexer = nargsort(\n\u001b[0m\u001b[0;32m   5304\u001b[0m                 \u001b[0mk\u001b[0m\u001b[1;33m,\u001b[0m \u001b[0mkind\u001b[0m\u001b[1;33m=\u001b[0m\u001b[0mkind\u001b[0m\u001b[1;33m,\u001b[0m \u001b[0mascending\u001b[0m\u001b[1;33m=\u001b[0m\u001b[0mascending\u001b[0m\u001b[1;33m,\u001b[0m \u001b[0mna_position\u001b[0m\u001b[1;33m=\u001b[0m\u001b[0mna_position\u001b[0m\u001b[1;33m,\u001b[0m \u001b[0mkey\u001b[0m\u001b[1;33m=\u001b[0m\u001b[0mkey\u001b[0m\u001b[1;33m\u001b[0m\u001b[1;33m\u001b[0m\u001b[0m\n\u001b[0;32m   5305\u001b[0m             )\n",
      "\u001b[1;32m~\\anaconda3\\lib\\site-packages\\pandas\\core\\sorting.py\u001b[0m in \u001b[0;36mnargsort\u001b[1;34m(items, kind, ascending, na_position, key)\u001b[0m\n\u001b[0;32m    299\u001b[0m         \u001b[0mnon_nans\u001b[0m \u001b[1;33m=\u001b[0m \u001b[0mnon_nans\u001b[0m\u001b[1;33m[\u001b[0m\u001b[1;33m:\u001b[0m\u001b[1;33m:\u001b[0m\u001b[1;33m-\u001b[0m\u001b[1;36m1\u001b[0m\u001b[1;33m]\u001b[0m\u001b[1;33m\u001b[0m\u001b[1;33m\u001b[0m\u001b[0m\n\u001b[0;32m    300\u001b[0m         \u001b[0mnon_nan_idx\u001b[0m \u001b[1;33m=\u001b[0m \u001b[0mnon_nan_idx\u001b[0m\u001b[1;33m[\u001b[0m\u001b[1;33m:\u001b[0m\u001b[1;33m:\u001b[0m\u001b[1;33m-\u001b[0m\u001b[1;36m1\u001b[0m\u001b[1;33m]\u001b[0m\u001b[1;33m\u001b[0m\u001b[1;33m\u001b[0m\u001b[0m\n\u001b[1;32m--> 301\u001b[1;33m     \u001b[0mindexer\u001b[0m \u001b[1;33m=\u001b[0m \u001b[0mnon_nan_idx\u001b[0m\u001b[1;33m[\u001b[0m\u001b[0mnon_nans\u001b[0m\u001b[1;33m.\u001b[0m\u001b[0margsort\u001b[0m\u001b[1;33m(\u001b[0m\u001b[0mkind\u001b[0m\u001b[1;33m=\u001b[0m\u001b[0mkind\u001b[0m\u001b[1;33m)\u001b[0m\u001b[1;33m]\u001b[0m\u001b[1;33m\u001b[0m\u001b[1;33m\u001b[0m\u001b[0m\n\u001b[0m\u001b[0;32m    302\u001b[0m     \u001b[1;32mif\u001b[0m \u001b[1;32mnot\u001b[0m \u001b[0mascending\u001b[0m\u001b[1;33m:\u001b[0m\u001b[1;33m\u001b[0m\u001b[1;33m\u001b[0m\u001b[0m\n\u001b[0;32m    303\u001b[0m         \u001b[0mindexer\u001b[0m \u001b[1;33m=\u001b[0m \u001b[0mindexer\u001b[0m\u001b[1;33m[\u001b[0m\u001b[1;33m:\u001b[0m\u001b[1;33m:\u001b[0m\u001b[1;33m-\u001b[0m\u001b[1;36m1\u001b[0m\u001b[1;33m]\u001b[0m\u001b[1;33m\u001b[0m\u001b[1;33m\u001b[0m\u001b[0m\n",
      "\u001b[1;31mTypeError\u001b[0m: '<' not supported between instances of 'int' and 'str'"
     ]
    }
   ],
   "source": [
    "df2.sort_values(by=['publish_time'], inplace=True, ascending=False)"
   ]
  },
  {
   "cell_type": "code",
   "execution_count": 45,
   "metadata": {},
   "outputs": [],
   "source": [
    "df2.to_csv('C://LUCENE PROJECT//NEWKAGGLEmetadata-2000-random.csv', index=False, encoding='utf-8')"
   ]
  },
  {
   "cell_type": "code",
   "execution_count": null,
   "metadata": {},
   "outputs": [],
   "source": []
  },
  {
   "cell_type": "code",
   "execution_count": null,
   "metadata": {},
   "outputs": [],
   "source": []
  },
  {
   "cell_type": "code",
   "execution_count": null,
   "metadata": {},
   "outputs": [],
   "source": []
  }
 ],
 "metadata": {
  "kernelspec": {
   "display_name": "Python 3",
   "language": "python",
   "name": "python3"
  },
  "language_info": {
   "codemirror_mode": {
    "name": "ipython",
    "version": 3
   },
   "file_extension": ".py",
   "mimetype": "text/x-python",
   "name": "python",
   "nbconvert_exporter": "python",
   "pygments_lexer": "ipython3",
   "version": "3.8.5"
  }
 },
 "nbformat": 4,
 "nbformat_minor": 4
}
